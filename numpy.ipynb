{
 "cells": [
  {
   "cell_type": "code",
   "execution_count": 1,
   "metadata": {},
   "outputs": [
    {
     "data": {
      "text/plain": [
       "['.git', '.gitignore', 'numpy.ipynb', 'README.md']"
      ]
     },
     "execution_count": 1,
     "metadata": {},
     "output_type": "execute_result"
    }
   ],
   "source": [
    "import os\n",
    "\n",
    "os.listdir()"
   ]
  },
  {
   "cell_type": "code",
   "execution_count": 1,
   "metadata": {},
   "outputs": [
    {
     "name": "stdout",
     "output_type": "stream",
     "text": [
      "Collecting numpy\n",
      "  Downloading numpy-1.24.3-cp310-cp310-win_amd64.whl (14.8 MB)\n",
      "     ---------------------------------------- 0.0/14.8 MB ? eta -:--:--\n",
      "      --------------------------------------- 0.2/14.8 MB 3.9 MB/s eta 0:00:04\n",
      "     -- ------------------------------------- 0.9/14.8 MB 9.4 MB/s eta 0:00:02\n",
      "     ------- -------------------------------- 2.7/14.8 MB 19.3 MB/s eta 0:00:01\n",
      "     -------------- ------------------------- 5.5/14.8 MB 27.2 MB/s eta 0:00:01\n",
      "     -------------------------- ------------- 9.8/14.8 MB 42.0 MB/s eta 0:00:01\n",
      "     ------------------------------- ------- 12.0/14.8 MB 65.6 MB/s eta 0:00:01\n",
      "     ---------------------------------- ---- 13.1/14.8 MB 65.2 MB/s eta 0:00:01\n",
      "     ------------------------------------- - 14.3/14.8 MB 54.7 MB/s eta 0:00:01\n",
      "     --------------------------------------  14.8/14.8 MB 50.4 MB/s eta 0:00:01\n",
      "     --------------------------------------  14.8/14.8 MB 50.4 MB/s eta 0:00:01\n",
      "     --------------------------------------- 14.8/14.8 MB 31.2 MB/s eta 0:00:00\n",
      "Installing collected packages: numpy\n",
      "Successfully installed numpy-1.24.3\n",
      "Note: you may need to restart the kernel to use updated packages.\n"
     ]
    },
    {
     "name": "stderr",
     "output_type": "stream",
     "text": [
      "\n",
      "[notice] A new release of pip is available: 23.0.1 -> 23.1.2\n",
      "[notice] To update, run: C:\\Users\\himas\\AppData\\Local\\Microsoft\\WindowsApps\\PythonSoftwareFoundation.Python.3.10_qbz5n2kfra8p0\\python.exe -m pip install --upgrade pip\n"
     ]
    }
   ],
   "source": [
    "# installing NumPy\n",
    "pip install numpy"
   ]
  },
  {
   "cell_type": "code",
   "execution_count": 4,
   "metadata": {},
   "outputs": [
    {
     "data": {
      "text/plain": [
       "array([0.4359949 , 0.02592623, 0.54966248, 0.43532239])"
      ]
     },
     "execution_count": 4,
     "metadata": {},
     "output_type": "execute_result"
    }
   ],
   "source": [
    "import numpy as np\n",
    "\n",
    "np.random.seed(2)\n",
    "np.random.rand(4)"
   ]
  },
  {
   "cell_type": "code",
   "execution_count": 5,
   "metadata": {},
   "outputs": [
    {
     "data": {
      "text/plain": [
       "array([[-1.79343559, -0.84174737,  0.50288142, -1.24528809, -1.05795222,\n",
       "        -0.90900761],\n",
       "       [ 0.55145404,  2.29220801,  0.04153939, -1.11792545,  0.53905832,\n",
       "        -0.5961597 ],\n",
       "       [-0.0191305 ,  1.17500122, -0.74787095,  0.00902525, -0.87810789,\n",
       "        -0.15643417],\n",
       "       [ 0.25657045, -0.98877905, -0.33882197, -0.23618403, -0.63765501,\n",
       "        -1.18761229],\n",
       "       [-1.42121723, -0.1534952 , -0.26905696,  2.23136679, -2.43476758,\n",
       "         0.1127265 ]])"
      ]
     },
     "execution_count": 5,
     "metadata": {},
     "output_type": "execute_result"
    }
   ],
   "source": [
    "np.random.randn(5,6)"
   ]
  }
 ],
 "metadata": {
  "kernelspec": {
   "display_name": "Python 3",
   "language": "python",
   "name": "python3"
  },
  "language_info": {
   "codemirror_mode": {
    "name": "ipython",
    "version": 3
   },
   "file_extension": ".py",
   "mimetype": "text/x-python",
   "name": "python",
   "nbconvert_exporter": "python",
   "pygments_lexer": "ipython3",
   "version": "3.10.11"
  },
  "orig_nbformat": 4
 },
 "nbformat": 4,
 "nbformat_minor": 2
}
